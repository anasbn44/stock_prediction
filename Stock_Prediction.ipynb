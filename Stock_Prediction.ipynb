{
  "cells": [
    {
      "cell_type": "markdown",
      "metadata": {
        "id": "view-in-github",
        "colab_type": "text"
      },
      "source": [
        "<a href=\"https://colab.research.google.com/github/anasbn44/stock_prediction/blob/master/Stock_Prediction.ipynb\" target=\"_parent\"><img src=\"https://colab.research.google.com/assets/colab-badge.svg\" alt=\"Open In Colab\"/></a>"
      ]
    },
    {
      "cell_type": "markdown",
      "source": [
        "# Stock prediction using ML models"
      ],
      "metadata": {
        "datalore": {
          "node_id": "aFLFNsozLR9vbmwWuPL8TY",
          "type": "MD",
          "hide_input_from_viewers": true,
          "hide_output_from_viewers": true
        },
        "id": "Dfliq8hIbMP4"
      }
    },
    {
      "cell_type": "markdown",
      "source": [
        "Predicting stock market movements using machine learning models has gained significant attention in recent years due to the potential for improved accuracy and predictive power. By leveraging historical price data, financial indicators, and other relevant features, ML models can help identify patterns and make predictions about future stock prices."
      ],
      "metadata": {
        "datalore": {
          "node_id": "H3D2zNxXxejbLT4VYm0mK5",
          "type": "MD",
          "hide_input_from_viewers": true,
          "hide_output_from_viewers": true
        },
        "id": "88kxMR2ybMP5"
      }
    },
    {
      "cell_type": "markdown",
      "source": [
        "## Outlines\n",
        "- [1. Packages](#1)\n",
        "- [2. Preprocessing](#2)\n",
        "    - [2.1. Data importation](#2.1)\n",
        "    - [2.2. Data Checking](#2.2)\n",
        "    - [2.3. Feature engineering](#2.3)\n",
        "- [3. Linear Regression](#3)\n",
        "    - [3.1. L.R. with all features from scratch](#3.1)\n",
        "    - [3.2. L.R. with scikit-learn](#3.2)\n",
        "    - [3.3. L.R. with best selected features](#3.3)\n",
        "- [4. Models comparison](#4)\n",
        "- [5. Conclusion](#5)"
      ],
      "metadata": {
        "datalore": {
          "node_id": "tZxN7jDfVxcpT0poLuIBC6",
          "type": "MD",
          "hide_input_from_viewers": true,
          "hide_output_from_viewers": true
        },
        "id": "ga9gyvdibMP6"
      }
    },
    {
      "cell_type": "markdown",
      "source": [
        "<a name=\"1\"></a>\n",
        "### 1. Packages\n",
        "- [numpy](https://numpy.org/) package for scientific computing.\n",
        "- [pandas](https://pandas.pydata.org/ ) data analysis and manipulation library.\n",
        "- [matplotlib](http://matplotlib.org) visualization library.\n",
        "- [seaborn](https://seaborn.pydata.org/) statistical data visualization\n",
        "- [scikitlearn](https://scikit-learn.org/stable/) machine learning library that supports supervised and unsupervised learning.\n",
        "- [XGBoost](https://xgboost.readthedocs.io/en/stable/) optimized distributed gradient boosting library."
      ],
      "metadata": {
        "datalore": {
          "node_id": "BwJNu2QiS2tJWLOQiXxFzh",
          "type": "MD",
          "hide_input_from_viewers": true,
          "hide_output_from_viewers": true
        },
        "id": "8vjI2XqtbMP7"
      }
    },
    {
      "cell_type": "code",
      "source": [
        "import numpy as np \n",
        "import pandas as pd \n",
        "\n",
        "from sklearn.model_selection import train_test_split,KFold,cross_val_score\n",
        "from sklearn.feature_selection import SelectKBest,f_regression\n",
        "\n",
        "from sklearn.linear_model import LinearRegression, Ridge\n",
        "from sklearn.ensemble import RandomForestRegressor, GradientBoostingRegressor, ExtraTreesRegressor\n",
        "from sklearn.neighbors import KNeighborsRegressor\n",
        "from sklearn.tree import DecisionTreeRegressor\n",
        "from xgboost import XGBRegressor\n",
        "\n",
        "from sklearn.preprocessing import MinMaxScaler\n",
        "from sklearn.metrics import r2_score\n",
        "from sklearn.pipeline import Pipeline\n",
        "\n",
        "import matplotlib.pyplot as plt\n",
        "import seaborn as sns\n",
        "\n",
        "import warnings"
      ],
      "execution_count": null,
      "outputs": [],
      "metadata": {
        "datalore": {
          "node_id": "Gyr8k27fwKE3Jo9vEGQTQh",
          "type": "CODE",
          "hide_input_from_viewers": true,
          "hide_output_from_viewers": true
        },
        "id": "TC5jN9NqbMP8"
      }
    },
    {
      "cell_type": "markdown",
      "source": [
        "<a name=\"2\"></a>\n",
        "### 2. Preprocessing"
      ],
      "metadata": {
        "datalore": {
          "node_id": "ioG1NTLYSa3XcZqfRbiUnt",
          "type": "MD",
          "hide_input_from_viewers": true,
          "hide_output_from_viewers": true
        },
        "id": "iwhNl_66bMP_"
      }
    },
    {
      "cell_type": "markdown",
      "source": [
        "<a name=\"2.1\"></a>\n",
        "#### 2.1. Data importation\n",
        "In this project, we have decided to construct our regression models with only the following indexes ;\n",
        "- AAPL is the index of apple.\n",
        "- AMZN is the index of amazon.\n",
        "- FB is the index of facebook.\n",
        "\n",
        "We imported data from [kaggle](https://www.kaggle.com/datasets/paultimothymooney/stock-market-data) which provided us a clean data. The data is loaded into separate Pandas DataFrame objects. These DataFrames contain columns representing various attributes of the stocks, such as date, opening price, closing price, volume, etc. "
      ],
      "metadata": {
        "datalore": {
          "node_id": "UarOa7zeLZ0UMVTGcFSvX2",
          "type": "MD",
          "hide_input_from_viewers": true,
          "hide_output_from_viewers": true
        },
        "id": "Bi8mAwQPbMQA"
      }
    },
    {
      "cell_type": "code",
      "source": [
        "data_aapl = pd.read_csv(\"AAPL.csv\")\n",
        "data_amzn = pd.read_csv(\"AMZN.csv\")\n",
        "data_fb = pd.read_csv(\"FB.csv\")\n",
        "\n",
        "stocks = [x for x in [data_aapl, data_amzn, data_fb]]\n",
        "names=[(\"AAPL\",\"sp500\"),(\"AMZN\",\"sp500\"),(\"FB\",\"sp500\")]\n",
        "\n",
        "for s in stocks :\n",
        "    print(f\"{s.tail(10)}\")"
      ],
      "execution_count": null,
      "outputs": [
        {
          "name": "stdout",
          "text": [
            "             Date         Low        Open    Volume        High       Close  \\\n",
            "10372  01-02-2022  172.309998  174.009995  86213900  174.839996  174.610001   \n",
            "10373  02-02-2022  173.330002  174.750000  84914300  175.880005  175.839996   \n",
            "10374  03-02-2022  172.119995  174.479996  89418100  176.240005  172.899994   \n",
            "10375  04-02-2022  170.679993  171.679993  82391400  174.100006  172.389999   \n",
            "10376  07-02-2022  170.949997  172.860001  77251200  173.949997  171.660004   \n",
            "10377  08-02-2022  171.429993  171.729996  74829200  175.350006  174.830002   \n",
            "10378  09-02-2022  174.899994  176.050003  71285000  176.649994  176.279999   \n",
            "10379  10-02-2022  171.550003  174.139999  90865900  175.479996  172.119995   \n",
            "10380  11-02-2022  168.039993  172.330002  98566000  173.080002  168.639999   \n",
            "10381  14-02-2022  167.139999  167.369995  25398134  169.000000  168.699997   \n",
            "\n",
            "       Adjusted Close  \n",
            "10372      174.387817  \n",
            "10373      175.616257  \n",
            "10374      172.679993  \n",
            "10375      172.389999  \n",
            "10376      171.660004  \n",
            "10377      174.830002  \n",
            "10378      176.279999  \n",
            "10379      172.119995  \n",
            "10380      168.639999  \n",
            "10381      168.699997  \n",
            "            Date          Low         Open    Volume         High  \\\n",
            "6220  01-02-2022  2952.550049  3000.000000   2961000  3034.159912   \n",
            "6221  02-02-2022  2977.270020  3101.010010   4366500  3101.500000   \n",
            "6222  03-02-2022  2766.659912  2834.750000  11276600  2884.949951   \n",
            "6223  04-02-2022  3012.159912  3112.129883  12640500  3224.000000   \n",
            "6224  07-02-2022  3145.000000  3170.399902   5131200  3253.820068   \n",
            "6225  08-02-2022  3111.010010  3135.010010   3802000  3235.850098   \n",
            "6226  09-02-2022  3205.000000  3257.469971   3439300  3276.689941   \n",
            "6227  10-02-2022  3155.000000  3167.000000   3413400  3214.330078   \n",
            "6228  11-02-2022  3054.679932  3162.689941   3851600  3180.000000   \n",
            "6229  14-02-2022  3033.000000  3035.020020   1340442  3143.879883   \n",
            "\n",
            "            Close  Adjusted Close  \n",
            "6220  3023.870117     3023.870117  \n",
            "6221  3012.250000     3012.250000  \n",
            "6222  2776.909912     2776.909912  \n",
            "6223  3152.790039     3152.790039  \n",
            "6224  3158.709961     3158.709961  \n",
            "6225  3228.270020     3228.270020  \n",
            "6226  3223.790039     3223.790039  \n",
            "6227  3180.070068     3180.070068  \n",
            "6228  3065.870117     3065.870117  \n",
            "6229  3143.290039     3143.290039  \n",
            "            Date         Low        Open     Volume        High       Close  \\\n",
            "2442  01-02-2022  312.119995  314.559998   18023800  319.660004  319.000000   \n",
            "2443  02-02-2022  316.869995  327.820007   58458300  328.000000  323.000000   \n",
            "2444  03-02-2022  235.750000  244.649994  188119900  248.000000  237.759995   \n",
            "2445  04-02-2022  230.110001  234.970001   89203700  242.610001  237.089996   \n",
            "2446  07-02-2022  224.009995  237.699997   88613800  238.300003  224.910004   \n",
            "2447  08-02-2022  216.149994  220.850006   94729700  225.770004  220.179993   \n",
            "2448  09-02-2022  222.210007  224.199997   86563300  233.369995  232.000000   \n",
            "2449  10-02-2022  226.699997  228.270004   49310400  235.000000  228.070007   \n",
            "2450  11-02-2022  218.770004  228.460007   46101900  230.419998  219.550003   \n",
            "2451  14-02-2022  216.710007  219.309998   17592708  221.000000  218.190002   \n",
            "\n",
            "      Adjusted Close  \n",
            "2442      319.000000  \n",
            "2443      323.000000  \n",
            "2444      237.759995  \n",
            "2445      237.089996  \n",
            "2446      224.910004  \n",
            "2447      220.179993  \n",
            "2448      232.000000  \n",
            "2449      228.070007  \n",
            "2450      219.550003  \n",
            "2451      218.190002  \n"
          ],
          "output_type": "stream"
        }
      ],
      "metadata": {
        "datalore": {
          "node_id": "z8ATeGwC37bjBLEdstRhYs",
          "type": "CODE",
          "hide_input_from_viewers": true,
          "hide_output_from_viewers": true
        },
        "id": "jRVRWZVNbMQB",
        "outputId": "57dbe8a7-959c-4d0f-bdcd-d46bed0da255"
      }
    },
    {
      "cell_type": "markdown",
      "source": [
        "<a name=\"2.2\"></a>\n",
        "#### 2.2. Data Checking\n",
        "Before any feature creation, first, we check that there is no null values and we concuded the data is clean."
      ],
      "metadata": {
        "datalore": {
          "node_id": "Om2HdohBsQVMZIBJN3UDgo",
          "type": "MD",
          "hide_input_from_viewers": true,
          "hide_output_from_viewers": true
        },
        "id": "3sowEl2DbMQE"
      }
    },
    {
      "cell_type": "code",
      "source": [
        "for i,stock in enumerate(stocks):\n",
        "    print(f\"index : {names[i][0]}\")\n",
        "    print(stock.info())\n",
        "    print(stock.isnull().sum())\n",
        "    print(stock.describe())\n"
      ],
      "execution_count": null,
      "outputs": [
        {
          "name": "stdout",
          "text": [
            "index : AAPL\n",
            "<class 'pandas.core.frame.DataFrame'>\n",
            "RangeIndex: 10382 entries, 0 to 10381\n",
            "Data columns (total 7 columns):\n",
            " #   Column          Non-Null Count  Dtype  \n",
            "---  ------          --------------  -----  \n",
            " 0   Date            10382 non-null  object \n",
            " 1   Low             10382 non-null  float64\n",
            " 2   Open            10382 non-null  float64\n",
            " 3   Volume          10382 non-null  int64  \n",
            " 4   High            10382 non-null  float64\n",
            " 5   Close           10382 non-null  float64\n",
            " 6   Adjusted Close  10382 non-null  float64\n",
            "dtypes: float64(5), int64(1), object(1)\n",
            "memory usage: 567.9+ KB\n",
            "None\n",
            "Date              0\n",
            "Low               0\n",
            "Open              0\n",
            "Volume            0\n",
            "High              0\n",
            "Close             0\n",
            "Adjusted Close    0\n",
            "dtype: int64\n",
            "                Low          Open        Volume          High         Close  \\\n",
            "count  10382.000000  10382.000000  1.038200e+04  10382.000000  10382.000000   \n",
            "mean      13.426372     13.571913  3.327950e+08     13.717826     13.577412   \n",
            "std       28.911320     29.230509  3.395587e+08     29.557161     29.246899   \n",
            "min        0.049107      0.049665  0.000000e+00      0.049665      0.049107   \n",
            "25%        0.273438      0.281250  1.253896e+08      0.287946      0.280893   \n",
            "50%        0.457868      0.466518  2.208260e+08      0.475446      0.465469   \n",
            "75%       13.867679     13.984911  4.140248e+08     14.141072     13.985803   \n",
            "max      179.119995    182.630005  7.421641e+09    182.940002    182.009995   \n",
            "\n",
            "       Adjusted Close  \n",
            "count    10382.000000  \n",
            "mean        12.959390  \n",
            "std         28.948095  \n",
            "min          0.038385  \n",
            "25%          0.233950  \n",
            "50%          0.384865  \n",
            "75%         11.982794  \n",
            "max        181.778397  \n",
            "index : AMZN\n",
            "<class 'pandas.core.frame.DataFrame'>\n",
            "RangeIndex: 6230 entries, 0 to 6229\n",
            "Data columns (total 7 columns):\n",
            " #   Column          Non-Null Count  Dtype  \n",
            "---  ------          --------------  -----  \n",
            " 0   Date            6230 non-null   object \n",
            " 1   Low             6230 non-null   float64\n",
            " 2   Open            6230 non-null   float64\n",
            " 3   Volume          6230 non-null   int64  \n",
            " 4   High            6230 non-null   float64\n",
            " 5   Close           6230 non-null   float64\n",
            " 6   Adjusted Close  6230 non-null   float64\n",
            "dtypes: float64(5), int64(1), object(1)\n",
            "memory usage: 340.8+ KB\n",
            "None\n",
            "Date              0\n",
            "Low               0\n",
            "Open              0\n",
            "Volume            0\n",
            "High              0\n",
            "Close             0\n",
            "Adjusted Close    0\n",
            "dtype: int64\n",
            "               Low         Open        Volume         High        Close  \\\n",
            "count  6230.000000  6230.000000  6.230000e+03  6230.000000  6230.000000   \n",
            "mean    547.529247   554.323310  7.286114e+06   560.465254   554.136205   \n",
            "std     894.768234   905.564907  7.119752e+06   915.130731   904.923626   \n",
            "min       1.312500     1.406250  4.872000e+05     1.447917     1.395833   \n",
            "25%      38.287499    38.962500  3.545100e+06    39.690001    39.002500   \n",
            "50%      94.255001    96.114998  5.435300e+06    98.312500    95.779999   \n",
            "75%     564.737488   571.734985  8.253425e+06   579.714996   573.315002   \n",
            "max    3696.790039  3744.000000  1.043292e+08  3773.080078  3731.409912   \n",
            "\n",
            "       Adjusted Close  \n",
            "count     6230.000000  \n",
            "mean       554.136205  \n",
            "std        904.923626  \n",
            "min          1.395833  \n",
            "25%         39.002500  \n",
            "50%         95.779999  \n",
            "75%        573.315002  \n",
            "max       3731.409912  \n",
            "index : FB\n",
            "<class 'pandas.core.frame.DataFrame'>\n",
            "RangeIndex: 2452 entries, 0 to 2451\n",
            "Data columns (total 7 columns):\n",
            " #   Column          Non-Null Count  Dtype  \n",
            "---  ------          --------------  -----  \n",
            " 0   Date            2452 non-null   object \n",
            " 1   Low             2452 non-null   float64\n",
            " 2   Open            2452 non-null   float64\n",
            " 3   Volume          2452 non-null   int64  \n",
            " 4   High            2452 non-null   float64\n",
            " 5   Close           2452 non-null   float64\n",
            " 6   Adjusted Close  2452 non-null   float64\n",
            "dtypes: float64(5), int64(1), object(1)\n",
            "memory usage: 134.2+ KB\n",
            "None\n",
            "Date              0\n",
            "Low               0\n",
            "Open              0\n",
            "Volume            0\n",
            "High              0\n",
            "Close             0\n",
            "Adjusted Close    0\n",
            "dtype: int64\n",
            "               Low         Open        Volume         High        Close  \\\n",
            "count  2452.000000  2452.000000  2.452000e+03  2452.000000  2452.000000   \n",
            "mean    144.697174   146.465620  3.084927e+07   148.205200   146.493948   \n",
            "std      88.918837    89.977631  2.764264e+07    91.072621    90.010970   \n",
            "min      17.549999    18.080000  5.913100e+06    18.270000    17.730000   \n",
            "25%      74.787500    75.597498  1.570182e+07    76.667498    75.755001   \n",
            "50%     136.409996   137.354996  2.216365e+07   138.720001   137.824997   \n",
            "75%     188.122498   190.247498  3.558722e+07   192.605003   190.087505   \n",
            "max     378.809998   381.679993  5.735764e+08   384.329987   382.179993   \n",
            "\n",
            "       Adjusted Close  \n",
            "count     2452.000000  \n",
            "mean       146.493948  \n",
            "std         90.010970  \n",
            "min         17.730000  \n",
            "25%         75.755001  \n",
            "50%        137.824997  \n",
            "75%        190.087505  \n",
            "max        382.179993  \n"
          ],
          "output_type": "stream"
        }
      ],
      "metadata": {
        "datalore": {
          "node_id": "FhoYrJ6K2uU6ZNe6ehQCzp",
          "type": "CODE",
          "hide_input_from_viewers": true,
          "hide_output_from_viewers": true
        },
        "id": "khfTsI8vbMQF",
        "outputId": "8d8d5daf-1cd5-4ac1-b1c2-409597f9df8d"
      }
    },
    {
      "cell_type": "markdown",
      "source": [
        "<a name=\"2.3\"></a>\n",
        "#### 2.3. Feature engineering"
      ],
      "metadata": {
        "datalore": {
          "node_id": "9oovmWjyOnMA3rfUFe5z8i",
          "type": "MD",
          "hide_input_from_viewers": true,
          "hide_output_from_viewers": true
        },
        "id": "3RlSUbDcbMQG"
      }
    },
    {
      "cell_type": "markdown",
      "source": [
        "As you can see, each day's moving average is calculated by taking the average of the closing prices \n",
        "of the previous three days. The moving average smooths out the daily fluctuations and provides\n",
        "a trend of the stock's price over time.\n",
        "\n",
        "For example, if a shorter-term moving average (e.g., 10-day) and a longer-term moving average (e.g., 100-day) both show an upward trend, it strengthens the conviction that an upward trend is underway.\n",
        "\n",
        "We also calculate the maximum and minimum values within the specified number of days. The maximum and minimum values provide insights into the stock's price behavior, trends, trading opportunities, and volatility. These calculations provide valuable information for making informed decisions and formulating effective trading or investment strategies."
      ],
      "metadata": {
        "datalore": {
          "node_id": "YH6tTM4wyADMv40Ln2FsIA",
          "type": "MD",
          "hide_input_from_viewers": true,
          "hide_output_from_viewers": true
        },
        "id": "6btNoWxJbMQG"
      }
    },
    {
      "cell_type": "code",
      "source": [
        "ma_days = [7,10,14,21,50,100]\n",
        "maxi_days=[7,30,365,730]\n",
        "\n",
        "def calculate_average(data,no_days):\n",
        "    for ma in no_days:\n",
        "        column_name = \"MA for %s days\" %(str(ma))\n",
        "        data.loc[:,column_name]=pd.DataFrame.rolling(data['Close'],ma).mean()\n",
        "\n",
        "def calculate_maximum(data,no_days):\n",
        "    for ma in no_days:\n",
        "        column_name = \"Maximum for %s days\" %(str(ma))\n",
        "        data.loc[:,column_name]=pd.DataFrame.rolling(data['Close'],ma).max()\n",
        "\n",
        "def calculate_minimum(data,no_days):\n",
        "    for ma in no_days:\n",
        "        column_name = \"Minimum for %s days\" %(str(ma))\n",
        "        data.loc[:,column_name]=pd.DataFrame.rolling(data['Close'],ma).min()\n",
        "\n",
        "\n",
        "for s in stocks :\n",
        "    calculate_average(s,ma_days)\n",
        "    calculate_maximum(s,maxi_days)\n",
        "    calculate_minimum(s,maxi_days)\n",
        "    s.loc[:,\"std for 7 days\"]=pd.DataFrame.rolling(s['Close'],7).std()\n",
        "    #add difference high-low daily feature\n",
        "    s.loc[:,'Diff High Low']=s['High']-s['Low']\n",
        "    #add diff open-close feature\n",
        "    s.loc[:,'Diff Open Close']=s['Open']-s['Close']\n",
        "    s.loc[:,'Daily Return'] = s['Close'].pct_change()*100\n",
        "\n",
        "    print(\"number of features {}\".format(len(s.columns)))\n",
        "    \n",
        "\n",
        "print(f\"columns names{stocks[0].columns}\")"
      ],
      "execution_count": null,
      "outputs": [
        {
          "name": "stdout",
          "text": [
            "number of features 25\n",
            "number of features 25\n",
            "number of features 25\n",
            "columns namesIndex(['Date', 'Low', 'Open', 'Volume', 'High', 'Close', 'Adjusted Close',\n",
            "       'MA for 7 days', 'MA for 10 days', 'MA for 14 days', 'MA for 21 days',\n",
            "       'MA for 50 days', 'MA for 100 days', 'Maximum for 7 days',\n",
            "       'Maximum for 30 days', 'Maximum for 365 days', 'Maximum for 730 days',\n",
            "       'Minimum for 7 days', 'Minimum for 30 days', 'Minimum for 365 days',\n",
            "       'Minimum for 730 days', 'std for 7 days', 'Diff High Low',\n",
            "       'Diff Open Close', 'Daily Return'],\n",
            "      dtype='object')\n"
          ],
          "output_type": "stream"
        }
      ],
      "metadata": {
        "datalore": {
          "node_id": "GXtj4x9JiKEkL1n5k5YTVw",
          "type": "CODE",
          "hide_input_from_viewers": true,
          "hide_output_from_viewers": true
        },
        "id": "haxGZkxXbMQH",
        "outputId": "59328e3d-a59b-4610-8fe2-c82f2e42deb3"
      }
    },
    {
      "cell_type": "markdown",
      "source": [
        "\n",
        "We decided to choose the last 6 years for the data set because the data, in the early years, is stagnant.\n",
        "."
      ],
      "metadata": {
        "datalore": {
          "node_id": "iF60EfvODYpFQtUsmlxaBx",
          "type": "MD",
          "hide_input_from_viewers": true,
          "hide_output_from_viewers": true
        },
        "id": "njckeI7kbMQI"
      }
    },
    {
      "cell_type": "code",
      "source": [
        "for index,stock in enumerate(stocks):\n",
        "    stock['Date'] = pd.to_datetime(stock['Date'],dayfirst=True)\n",
        "    start_date=pd.to_datetime(\"01/01/2012\")\n",
        "    end_date=pd.to_datetime(\"01/01/2022\")\n",
        "    stock = stock[(stock[\"Date\"] >= start_date) & (stock[\"Date\"] <= end_date)]\n",
        "    stock.set_index('Date', inplace=True)\n",
        "    stocks[index]=stock\n",
        "df=stocks[0]"
      ],
      "execution_count": null,
      "outputs": [],
      "metadata": {
        "datalore": {
          "node_id": "BWs6y6mERVaCfLXoMS7fgl",
          "type": "CODE",
          "hide_input_from_viewers": true,
          "hide_output_from_viewers": true
        },
        "id": "jZz7ZZavbMQJ"
      }
    },
    {
      "cell_type": "markdown",
      "source": [
        "Plotting the evolution of Close price of the three stocks ; \"AAPL\", \"AMZN\" and \"FB\" starting from 2012 to 2022."
      ],
      "metadata": {
        "datalore": {
          "node_id": "rq0PrKUbCbIGV6RvaqSQn1",
          "type": "MD",
          "hide_input_from_viewers": true,
          "hide_output_from_viewers": true
        },
        "id": "Z_C5OHcAbMQK"
      }
    },
    {
      "cell_type": "code",
      "source": [
        "stocks_close=[stock[\"Close\"] for stock in stocks]\n",
        "close_show = pd.concat(stocks_close, axis=1, keys=names)\n",
        "axes =close_show.plot(marker='.', alpha=0.7, linestyle='None', figsize=(15, 9), subplots=True)"
      ],
      "execution_count": null,
      "outputs": [
        {
          "data": {
            "image/png": "[encoded data removed]"
          },
          "metadata": {
            "image/png": {}
          },
          "output_type": "display_data"
        }
      ],
      "metadata": {
        "datalore": {
          "node_id": "to3m9cvltyb4L5JZibch4h",
          "type": "CODE",
          "hide_input_from_viewers": true,
          "hide_output_from_viewers": true
        },
        "id": "dFcd966JbMQK",
        "outputId": "ef16a5c0-8ddf-458f-c7ac-ada1db5b7baa"
      }
    },
    {
      "cell_type": "code",
      "source": [
        "#to avoid unnecessary warnings\n",
        "warnings.filterwarnings(\"ignore\")"
      ],
      "execution_count": null,
      "outputs": [],
      "metadata": {
        "datalore": {
          "node_id": "Ak0EihbSf47XPS5vBbiQwC",
          "type": "CODE",
          "hide_input_from_viewers": true,
          "hide_output_from_viewers": true
        },
        "id": "ZmdMYf8LbMQL"
      }
    },
    {
      "cell_type": "markdown",
      "source": [
        "We extract the input and output from the dataset. We add a new column \"Previous Close\" that represents the \"Close\" price of the previous day."
      ],
      "metadata": {
        "datalore": {
          "node_id": "HvVcaKVIKFgSS3HbA76bf9",
          "type": "MD",
          "hide_input_from_viewers": true,
          "hide_output_from_viewers": true
        },
        "id": "rNGE6fW8bMQM"
      }
    },
    {
      "cell_type": "code",
      "source": [
        "aapl_data = stocks[0]\n",
        "y = aapl_data['Close'][1:] #target column -close value\n",
        "aapl_data.loc[:,'Close previous']=aapl_data['Close']\n",
        "aapl_data=aapl_data.drop(['Close'],axis=1)\n",
        "aapl_data=aapl_data.drop(['Adjusted Close'],axis=1)\n",
        "aapl_data=aapl_data.shift(periods=1)[1:]\n",
        "\n",
        "print(aapl_data['Close previous'].tail(3))\n",
        "print(\"-----------------\")\n",
        "print(stocks[0]['Close'].tail(4))"
      ],
      "execution_count": null,
      "outputs": [
        {
          "name": "stdout",
          "text": [
            "Date\n",
            "2021-12-29    179.289993\n",
            "2021-12-30    179.380005\n",
            "2021-12-31    178.199997\n",
            "Name: Close previous, dtype: float64\n",
            "-----------------\n",
            "Date\n",
            "2021-12-28    179.289993\n",
            "2021-12-29    179.380005\n",
            "2021-12-30    178.199997\n",
            "2021-12-31    177.570007\n",
            "Name: Close, dtype: float64\n"
          ],
          "output_type": "stream"
        }
      ],
      "metadata": {
        "datalore": {
          "node_id": "DN14UVgYqCJAIh8cUU8EJG",
          "type": "CODE",
          "hide_input_from_viewers": true,
          "hide_output_from_viewers": true
        },
        "id": "9gagGoRPbMQM",
        "outputId": "39242922-f405-45e0-eae4-efe9729e103e"
      }
    },
    {
      "cell_type": "markdown",
      "source": [
        "<a name=\"3\"></a>\n",
        "### 3. Linear Regression"
      ],
      "metadata": {
        "datalore": {
          "node_id": "Ios89RnYHs9fCwMOsVaR65",
          "type": "MD",
          "hide_input_from_viewers": true,
          "hide_output_from_viewers": true
        },
        "id": "3u9sL-d9bMQN"
      }
    },
    {
      "cell_type": "markdown",
      "source": [
        "<a name=\"3.1\"></a>\n",
        "#### 3.1. L.R. with all features from scratch"
      ],
      "metadata": {
        "datalore": {
          "node_id": "DpRT3Ul7uW72c0yPTieqel",
          "type": "MD",
          "hide_input_from_viewers": true,
          "hide_output_from_viewers": true
        },
        "id": "Hd6aoIrLbMQO"
      }
    },
    {
      "cell_type": "markdown",
      "source": [
        "First Step is to split the data into training data and testing data. "
      ],
      "metadata": {
        "datalore": {
          "node_id": "tNH43KDD4vJW3ZjxYMxYON",
          "type": "MD",
          "hide_input_from_viewers": true,
          "hide_output_from_viewers": true
        },
        "id": "DaC4oWVpbMQO"
      }
    },
    {
      "cell_type": "code",
      "source": [
        "X_train, X_test, y_train, y_test = train_test_split(aapl_data, y, test_size=0.25, shuffle=False)\n",
        "\n",
        "print(f\"the shape of the training set (input) is: {X_train.shape}\")\n",
        "print(f\"the shape of the training set (target) is: {y_train.shape}\\n\")\n",
        "\n",
        "print(f\"the shape of the test set (input) is: {X_test.shape}\")\n",
        "print(f\"the shape of the test set (target) is: {y_test.shape}\")"
      ],
      "execution_count": null,
      "outputs": [
        {
          "name": "stdout",
          "text": [
            "the shape of the training set (input) is: (1887, 23)\n",
            "the shape of the training set (target) is: (1887,)\n",
            "\n",
            "the shape of the test set (input) is: (629, 23)\n",
            "the shape of the test set (target) is: (629,)\n"
          ],
          "output_type": "stream"
        }
      ],
      "metadata": {
        "datalore": {
          "node_id": "5zoLm4d4j1xw3X6RDrNYoQ",
          "type": "CODE",
          "hide_input_from_viewers": true,
          "hide_output_from_viewers": true
        },
        "id": "UcyQZDwLbMQP",
        "outputId": "f6debf5c-ae9b-477c-ffbe-740b872cb10b"
      }
    },
    {
      "cell_type": "markdown",
      "source": [
        "The purpose of scaling is to ensure that all features contribute equally to the learning process and to avoid any bias or dominance of features based on their scale or unit of measurement. \n",
        "\n",
        "Min-max scaling: This estimator scales and translates each feature individually such that it is to a specific range, often between 0 and 1.\n",
        "\n",
        "The transformation is given by:\n",
        "$$ Z = \\frac{(X - \\mathbf{\\min})}{\\mathbf{\\max} - \\mathbf{\\min}}\n",
        "$$\n",
        "where min, max = feature_range.\n",
        "\n",
        "first, we compute the min and max of the training set then transform it unsing [`fit_transform()`](https://scikit-learn.org/stable/modules/generated/sklearn.preprocessing.StandardScaler.html#sklearn.preprocessing.StandardScaler.fit_transform) method.\n",
        "\n",
        "We will scale also the test set below by using the same `MinMaxScaler` but only calling its [`transform()`](https://scikit-learn.org/stable/modules/generated/sklearn.preprocessing.StandardScaler.html#sklearn.preprocessing.StandardScaler.transform) method instead of [`fit_transform()`](https://scikit-learn.org/stable/modules/generated/sklearn.preprocessing.StandardScaler.html#sklearn.preprocessing.StandardScaler.fit_transform)"
      ],
      "metadata": {
        "datalore": {
          "node_id": "BHRmcGUi3H8LJEj8p8ye9w",
          "type": "MD",
          "hide_input_from_viewers": true,
          "hide_output_from_viewers": true
        },
        "id": "MuzOvsxsbMQQ"
      }
    },
    {
      "cell_type": "code",
      "source": [
        "scaler = MinMaxScaler()\n",
        "#Compute the min and max of the training set then transform it\n",
        "X_train_scaled = scaler.fit_transform(X_train)\n",
        "X_test_scaled = scaler.transform(X_test)"
      ],
      "execution_count": null,
      "outputs": [],
      "metadata": {
        "datalore": {
          "node_id": "iyxPWzP6UW536GyewNqvfr",
          "type": "CODE",
          "hide_input_from_viewers": true,
          "hide_output_from_viewers": true
        },
        "id": "QxQwCHFWbMQQ"
      }
    },
    {
      "cell_type": "markdown",
      "source": [
        "Defining the model of the Linear Regression\n",
        "$$ f_{w,b}(x^{(i)}) = wx^{(i)} + b $$"
      ],
      "metadata": {
        "datalore": {
          "node_id": "IQ7d2yDGg2Bv3PLN4yrxjp",
          "type": "MD",
          "hide_input_from_viewers": true,
          "hide_output_from_viewers": true
        },
        "id": "LNZuhGcubMQR"
      }
    },
    {
      "cell_type": "code",
      "source": [
        "def model(X, theta):\n",
        "    return X.dot(theta) "
      ],
      "execution_count": null,
      "outputs": [],
      "metadata": {
        "datalore": {
          "node_id": "wCqPEpRhIs12gcR131r9hw",
          "type": "CODE",
          "hide_input_from_viewers": true,
          "hide_output_from_viewers": true
        },
        "id": "a1EJhDV4bMQS"
      }
    },
    {
      "cell_type": "markdown",
      "source": [
        "The cost function computes the squared difference between the predicted value ŷᵢ and the true value yᵢ for each training example, sums up these squared differences, and then divides by the total number of training examples to calculate the average.\n",
        "$$ J_\\text{train}(\\mathbf{w},b) =\n",
        "            \\frac{1}{2m_\\text{train}}\\sum_{i=0}^{m_\\text{train}-1} ( f_{\\mathbf{w},b}(\\mathbf{X}^{(i)}_\\text{train}) - y^{(i)}_\\text{train} )^2\n",
        "$$"
      ],
      "metadata": {
        "datalore": {
          "node_id": "hUTSBiTFddLgAebYp66DtN",
          "type": "MD",
          "hide_input_from_viewers": true,
          "hide_output_from_viewers": true
        },
        "id": "pGVM3MCUbMQS"
      }
    },
    {
      "cell_type": "code",
      "source": [
        "def cost_function(X, y, theta):\n",
        "    m = len(y)\n",
        "    return 1/(2*m) * np.sum((model(X, theta) - y)**2)"
      ],
      "execution_count": null,
      "outputs": [],
      "metadata": {
        "datalore": {
          "node_id": "Hkw03jWopwEgJoi5PIvL7g",
          "type": "CODE",
          "hide_input_from_viewers": true,
          "hide_output_from_viewers": true
        },
        "id": "p7WkEkJlbMQT"
      }
    },
    {
      "cell_type": "markdown",
      "source": [
        "Gradient function for computing the gradient of the cost function with respect to the model parameters (theta) in linear regression. \n",
        "$$\n",
        "\\begin{align}\n",
        "\\frac{\\partial J(w,b)}{\\partial w}  &= \\frac{1}{m} \\sum\\limits_{i = 0}^{m-1} (f_{w,b}(x^{(i)}) - y^{(i)})x^{(i)} \\tag{4}\\\\\n",
        "  \\frac{\\partial J(w,b)}{\\partial b}  &= \\frac{1}{m} \\sum\\limits_{i = 0}^{m-1} (f_{w,b}(x^{(i)}) - y^{(i)}) \\tag{5}\\\\\n",
        "\\end{align}\n",
        "$$"
      ],
      "metadata": {
        "datalore": {
          "node_id": "qWxpje9AwCwo6XBiWuybQR",
          "type": "MD",
          "hide_input_from_viewers": true,
          "hide_output_from_viewers": true
        },
        "id": "64wnFywtbMQU"
      }
    },
    {
      "cell_type": "code",
      "source": [
        "def grad(X, y, theta):\n",
        "    m = len(y)\n",
        "    return 1/m * X.T.dot(model(X, theta) - y)"
      ],
      "execution_count": null,
      "outputs": [],
      "metadata": {
        "datalore": {
          "node_id": "nR6MkvPgEaymD4fUCldpaG",
          "type": "CODE",
          "hide_input_from_viewers": true,
          "hide_output_from_viewers": true
        },
        "id": "wDg3685nbMQV"
      }
    },
    {
      "cell_type": "markdown",
      "source": [
        " Gradient descent is an iterative optimization algorithm used to minimize the cost or error function of a model by updating its parameters.\n",
        " $$\\begin{align*} \\text{repeat}&\\text{ until convergence:} \\; \\lbrace \\newline\n",
        "\\;  w &= w -  \\alpha \\frac{\\partial J(w,b)}{\\partial w} \\tag{3}  \\; \\newline \n",
        " b &= b -  \\alpha \\frac{\\partial J(w,b)}{\\partial b}  \\newline \\rbrace\n",
        "\\end{align*}$$\n",
        "where, parameters $w$, $b$ are updated simultaneously. "
      ],
      "metadata": {
        "datalore": {
          "node_id": "3ssGWQzfIDa46pkTQO70Af",
          "type": "MD",
          "hide_input_from_viewers": true,
          "hide_output_from_viewers": true
        },
        "id": "YshCQ2EKbMQW"
      }
    },
    {
      "cell_type": "code",
      "source": [
        "def gradient_descent(X, y, theta, learning_rate, n_iterations):\n",
        "    \n",
        "    cost_history = np.zeros(n_iterations) # création d'un tableau de stockage pour enregistrer l'évolution du Cout du modele\n",
        "    \n",
        "    for i in range(0, n_iterations):\n",
        "        theta = theta - learning_rate * grad(X, y, theta) # mise a jour du parametre theta (formule du gradient descent)\n",
        "        cost_history[i] = cost_function(X, y, theta) # on enregistre la valeur du Cout au tour i dans cost_history[i]\n",
        "        if (i + 1) % (n_iterations/10) == 0:\n",
        "            print(f\"iteration {i} : {cost_history[i]}\")\n",
        "        \n",
        "    return theta, cost_history"
      ],
      "execution_count": null,
      "outputs": [],
      "metadata": {
        "datalore": {
          "node_id": "HnUqUyMHah1d5g8JMPCHxO",
          "type": "CODE",
          "hide_input_from_viewers": true,
          "hide_output_from_viewers": true
        },
        "id": "LQc8tbHqbMQW"
      }
    },
    {
      "cell_type": "code",
      "source": [
        "#Initialising a random theta\n",
        "theta = np.random.randn(23, 1)\n",
        "theta"
      ],
      "execution_count": null,
      "outputs": [
        {
          "data": {
            "text/html": [
              "<pre>array([[ 0.88879256],\n",
              "       [-1.4474185 ],\n",
              "       [ 0.68425771],\n",
              "       [-1.64761688],\n",
              "       [ 0.72139603],\n",
              "       [ 1.11073293],\n",
              "       [ 0.73825054],\n",
              "       [ 0.84211292],\n",
              "       [ 0.4158743 ],\n",
              "       [-0.10738561],\n",
              "       [-0.7927478 ],\n",
              "       [-0.87444944],\n",
              "       [ 0.54123971],\n",
              "       [-0.09090662],\n",
              "       [-1.37124883],\n",
              "       [ 0.12702957],\n",
              "       [-1.92435937],\n",
              "       [ 1.35937527],\n",
              "       [-2.37579772],\n",
              "       [-0.49044223],\n",
              "       [-1.42798766],\n",
              "       [ 0.64482403],\n",
              "       [ 0.13633345]])</pre>"
            ]
          },
          "metadata": {},
          "output_type": "display_data"
        }
      ],
      "metadata": {
        "datalore": {
          "node_id": "51w4g1yVbQOZmFnpqFGWpt",
          "type": "CODE",
          "hide_input_from_viewers": true,
          "hide_output_from_viewers": true
        },
        "id": "0SzEKMnsbMQX",
        "outputId": "0c4e73e9-d928-4891-eb61-16f8a4dd9a46"
      }
    },
    {
      "cell_type": "code",
      "source": [
        "#reshaping y_train into two-dimensionnal array\n",
        "y_train = np.reshape(y_train.values,(-1,1))\n",
        "print(y_train.shape)"
      ],
      "execution_count": null,
      "outputs": [
        {
          "name": "stdout",
          "text": [
            "(1887, 1)\n"
          ],
          "output_type": "stream"
        }
      ],
      "metadata": {
        "datalore": {
          "node_id": "BFFAfYdptMxvs7fx8oiLNm",
          "type": "CODE",
          "hide_input_from_viewers": true,
          "hide_output_from_viewers": true
        },
        "id": "UAA7yEySbMQY",
        "outputId": "d0080841-7fca-4094-9bd2-30eabfd11ac9"
      }
    },
    {
      "cell_type": "code",
      "source": [
        "#calculating the initial cost of the model\n",
        "cost_function(X_train_scaled,y_train,theta)"
      ],
      "execution_count": null,
      "outputs": [
        {
          "data": {
            "text/plain": [
              "545.6883452649482"
            ]
          },
          "metadata": {},
          "output_type": "display_data"
        }
      ],
      "metadata": {
        "datalore": {
          "node_id": "mgTrFirau3R6ahM0QnVclX",
          "type": "CODE",
          "hide_input_from_viewers": true,
          "hide_output_from_viewers": true
        },
        "id": "s15eAyzYbMQY",
        "outputId": "9238b0cc-abf8-490e-aca7-09566a4778ed"
      }
    },
    {
      "cell_type": "markdown",
      "source": [
        "Training the model with a learning rate of 0.1 and number of iterations as 6000."
      ],
      "metadata": {
        "datalore": {
          "node_id": "t7aHqYwR4uvft0lQjXeo9n",
          "type": "MD",
          "hide_input_from_viewers": true,
          "hide_output_from_viewers": true
        },
        "id": "vER3Kg0RbMQZ"
      }
    },
    {
      "cell_type": "code",
      "source": [
        "n_iterations = 6000\n",
        "learning_rate = 0.1\n",
        "\n",
        "theta_final, cost_history = gradient_descent(X_train_scaled, y_train, theta, learning_rate, n_iterations)\n",
        "\n",
        "theta_final"
      ],
      "execution_count": null,
      "outputs": [
        {
          "name": "stdout",
          "text": [
            "iteration 599 : 0.63400807091653\n",
            "iteration 1199 : 0.5264746295022079\n",
            "iteration 1799 : 0.4846435130028694\n",
            "iteration 2399 : 0.4610821384441227\n",
            "iteration 2999 : 0.44681973302069533\n",
            "iteration 3599 : 0.43777438215742676\n",
            "iteration 4199 : 0.43176062200927123\n",
            "iteration 4799 : 0.4275607997140649\n",
            "iteration 5399 : 0.4244802757692318\n",
            "iteration 5999 : 0.42211453702847024\n"
          ],
          "output_type": "stream"
        },
        {
          "data": {
            "text/html": [
              "<pre>array([[ 7.38056113],\n",
              "       [ 4.1802146 ],\n",
              "       [ 2.23051354],\n",
              "       [ 4.23369623],\n",
              "       [ 5.34875571],\n",
              "       [ 4.47784878],\n",
              "       [ 3.08504549],\n",
              "       [ 1.85654336],\n",
              "       [-1.13265337],\n",
              "       [-1.62421868],\n",
              "       [ 3.3817593 ],\n",
              "       [-0.81628602],\n",
              "       [ 0.8931724 ],\n",
              "       [ 0.79583755],\n",
              "       [ 3.25416228],\n",
              "       [ 1.02566631],\n",
              "       [-0.40429534],\n",
              "       [ 2.00492181],\n",
              "       [ 0.14918162],\n",
              "       [-1.4973013 ],\n",
              "       [ 9.1275823 ],\n",
              "       [14.54440479],\n",
              "       [ 6.79753482]])</pre>"
            ]
          },
          "metadata": {},
          "output_type": "display_data"
        }
      ],
      "metadata": {
        "datalore": {
          "node_id": "RPuEEpUoaezlNRn7VO7WZX",
          "type": "CODE",
          "hide_input_from_viewers": true,
          "hide_output_from_viewers": true
        },
        "id": "5ViEHkzsbMQp",
        "outputId": "8ae5fc3e-1cce-4226-930a-832de2612053"
      }
    },
    {
      "cell_type": "code",
      "source": [
        "#predicting the close price with the test data.\n",
        "predictions = model(X_test_scaled, theta_final)"
      ],
      "execution_count": null,
      "outputs": [],
      "metadata": {
        "datalore": {
          "node_id": "gzyu3PeMwprzJk4grpfdd9",
          "type": "CODE",
          "hide_input_from_viewers": true,
          "hide_output_from_viewers": true
        },
        "id": "baf-0ix_bMQq"
      }
    },
    {
      "cell_type": "code",
      "source": [
        "#calculating the coefficient of determination.\n",
        "r2_score(y_test, predictions)"
      ],
      "execution_count": null,
      "outputs": [
        {
          "data": {
            "text/plain": [
              "0.9856460490801576"
            ]
          },
          "metadata": {},
          "output_type": "display_data"
        }
      ],
      "metadata": {
        "datalore": {
          "node_id": "jT5NguFr3upupM3GFVWE7H",
          "type": "CODE",
          "hide_input_from_viewers": true,
          "hide_output_from_viewers": true
        },
        "id": "u_HWF0S6bMQr",
        "outputId": "9be343b7-b7c1-42d3-f6aa-bd17645c3bc5"
      }
    },
    {
      "cell_type": "code",
      "source": [
        "#plotting the evolution of errors.\n",
        "plt.plot(range(6000-200), cost_history[200:])\n",
        "plt.show()"
      ],
      "execution_count": null,
      "outputs": [
        {
          "data": {
            "image/png": "[encoded data removed]"
          },
          "metadata": {
            "image/png": {}
          },
          "output_type": "display_data"
        }
      ],
      "metadata": {
        "datalore": {
          "node_id": "2f1idzef9sGF4VqRkBsznt",
          "type": "CODE",
          "hide_input_from_viewers": true,
          "hide_output_from_viewers": true
        },
        "id": "Nm0wAfrrbMQs",
        "outputId": "6dfa4239-966a-49b7-e9a5-ecc0948f8761"
      }
    },
    {
      "cell_type": "markdown",
      "source": [
        "<a name=\"3.2\"></a>\n",
        "#### 3.2. L.R. with scikit-learn"
      ],
      "metadata": {
        "datalore": {
          "node_id": "ovqhfInPW3MAcok6hMwQjl",
          "type": "MD",
          "hide_input_from_viewers": true,
          "hide_output_from_viewers": true
        },
        "id": "KznU2jeZbMQt"
      }
    },
    {
      "cell_type": "markdown",
      "source": [
        "[LinearRegression](https://scikit-learn.org/stable/modules/generated/sklearn.linear_model.LinearRegression.html) fits a linear model with coefficients w = (w1, …, wp) to minimize the residual sum of squares between the observed targets in the dataset, and the targets predicted by the linear approximation."
      ],
      "metadata": {
        "datalore": {
          "node_id": "qMyJ3GLVU11zbGz2du13o8",
          "type": "MD",
          "hide_input_from_viewers": true,
          "hide_output_from_viewers": true
        },
        "id": "8cZafDxRbMQu"
      }
    },
    {
      "cell_type": "code",
      "source": [
        "#defining the model\n",
        "linear_model = LinearRegression()\n",
        "linear_model.fit(X_train_scaled, y_train)"
      ],
      "execution_count": null,
      "outputs": [
        {
          "data": {
            "text/html": [
              "<style>#sk-container-id-5 {color: black;background-color: white;}#sk-container-id-5 pre{padding: 0;}#sk-container-id-5 div.sk-toggleable {background-color: white;}#sk-container-id-5 label.sk-toggleable__label {cursor: pointer;display: block;width: 100%;margin-bottom: 0;padding: 0.3em;box-sizing: border-box;text-align: center;}#sk-container-id-5 label.sk-toggleable__label-arrow:before {content: \"▸\";float: left;margin-right: 0.25em;color: #696969;}#sk-container-id-5 label.sk-toggleable__label-arrow:hover:before {color: black;}#sk-container-id-5 div.sk-estimator:hover label.sk-toggleable__label-arrow:before {color: black;}#sk-container-id-5 div.sk-toggleable__content {max-height: 0;max-width: 0;overflow: hidden;text-align: left;background-color: #f0f8ff;}#sk-container-id-5 div.sk-toggleable__content pre {margin: 0.2em;color: black;border-radius: 0.25em;background-color: #f0f8ff;}#sk-container-id-5 input.sk-toggleable__control:checked~div.sk-toggleable__content {max-height: 200px;max-width: 100%;overflow: auto;}#sk-container-id-5 input.sk-toggleable__control:checked~label.sk-toggleable__label-arrow:before {content: \"▾\";}#sk-container-id-5 div.sk-estimator input.sk-toggleable__control:checked~label.sk-toggleable__label {background-color: #d4ebff;}#sk-container-id-5 div.sk-label input.sk-toggleable__control:checked~label.sk-toggleable__label {background-color: #d4ebff;}#sk-container-id-5 input.sk-hidden--visually {border: 0;clip: rect(1px 1px 1px 1px);clip: rect(1px, 1px, 1px, 1px);height: 1px;margin: -1px;overflow: hidden;padding: 0;position: absolute;width: 1px;}#sk-container-id-5 div.sk-estimator {font-family: monospace;background-color: #f0f8ff;border: 1px dotted black;border-radius: 0.25em;box-sizing: border-box;margin-bottom: 0.5em;}#sk-container-id-5 div.sk-estimator:hover {background-color: #d4ebff;}#sk-container-id-5 div.sk-parallel-item::after {content: \"\";width: 100%;border-bottom: 1px solid gray;flex-grow: 1;}#sk-container-id-5 div.sk-label:hover label.sk-toggleable__label {background-color: #d4ebff;}#sk-container-id-5 div.sk-serial::before {content: \"\";position: absolute;border-left: 1px solid gray;box-sizing: border-box;top: 0;bottom: 0;left: 50%;z-index: 0;}#sk-container-id-5 div.sk-serial {display: flex;flex-direction: column;align-items: center;background-color: white;padding-right: 0.2em;padding-left: 0.2em;position: relative;}#sk-container-id-5 div.sk-item {position: relative;z-index: 1;}#sk-container-id-5 div.sk-parallel {display: flex;align-items: stretch;justify-content: center;background-color: white;position: relative;}#sk-container-id-5 div.sk-item::before, #sk-container-id-5 div.sk-parallel-item::before {content: \"\";position: absolute;border-left: 1px solid gray;box-sizing: border-box;top: 0;bottom: 0;left: 50%;z-index: -1;}#sk-container-id-5 div.sk-parallel-item {display: flex;flex-direction: column;z-index: 1;position: relative;background-color: white;}#sk-container-id-5 div.sk-parallel-item:first-child::after {align-self: flex-end;width: 50%;}#sk-container-id-5 div.sk-parallel-item:last-child::after {align-self: flex-start;width: 50%;}#sk-container-id-5 div.sk-parallel-item:only-child::after {width: 0;}#sk-container-id-5 div.sk-dashed-wrapped {border: 1px dashed gray;margin: 0 0.4em 0.5em 0.4em;box-sizing: border-box;padding-bottom: 0.4em;background-color: white;}#sk-container-id-5 div.sk-label label {font-family: monospace;font-weight: bold;display: inline-block;line-height: 1.2em;}#sk-container-id-5 div.sk-label-container {text-align: center;}#sk-container-id-5 div.sk-container {/* jupyter's `normalize.less` sets `[hidden] { display: none; }` but bootstrap.min.css set `[hidden] { display: none !important; }` so we also need the `!important` here to be able to override the default hidden behavior on the sphinx rendered scikit-learn.org. See: https://github.com/scikit-learn/scikit-learn/issues/21755 */display: inline-block !important;position: relative;}#sk-container-id-5 div.sk-text-repr-fallback {display: none;}</style><div id=\"sk-container-id-5\" class=\"sk-top-container\"><div class=\"sk-text-repr-fallback\"><pre>LinearRegression()</pre><b>In a Jupyter environment, please rerun this cell to show the HTML representation or trust the notebook. <br />On GitHub, the HTML representation is unable to render, please try loading this page with nbviewer.org.</b></div><div class=\"sk-container\" hidden><div class=\"sk-item\"><div class=\"sk-estimator sk-toggleable\"><input class=\"sk-toggleable__control sk-hidden--visually\" id=\"sk-estimator-id-5\" type=\"checkbox\" checked><label for=\"sk-estimator-id-5\" class=\"sk-toggleable__label sk-toggleable__label-arrow\">LinearRegression</label><div class=\"sk-toggleable__content\"><pre>LinearRegression()</pre></div></div></div></div></div>"
            ]
          },
          "metadata": {},
          "output_type": "display_data"
        }
      ],
      "metadata": {
        "datalore": {
          "node_id": "anbKoYNbSFanuXYiyYjRKl",
          "type": "CODE",
          "hide_input_from_viewers": true,
          "hide_output_from_viewers": true
        },
        "id": "iMVKuM6VbMQu",
        "outputId": "d2755d8e-af17-4215-9e02-aab693f629cd"
      }
    },
    {
      "cell_type": "code",
      "source": [
        "#Once trained, the model is used to make predictions on test data.\n",
        "yhat = linear_model.predict(X_test_scaled)"
      ],
      "execution_count": null,
      "outputs": [],
      "metadata": {
        "datalore": {
          "node_id": "yROwphyj5OtyeOBA3ovCT4",
          "type": "CODE",
          "hide_input_from_viewers": true,
          "hide_output_from_viewers": true
        },
        "id": "z6gaF-VqbMQv"
      }
    },
    {
      "cell_type": "code",
      "source": [
        "#calculate the coefficient of determination (R-squared) of the trained linear regression model.\n",
        "score = linear_model.score(X_test_scaled, y_test)\n",
        "score"
      ],
      "execution_count": null,
      "outputs": [
        {
          "data": {
            "text/plain": [
              "0.9960251560134215"
            ]
          },
          "metadata": {},
          "output_type": "display_data"
        }
      ],
      "metadata": {
        "datalore": {
          "node_id": "BwVDInJi81yOUqYwSDLJBZ",
          "type": "CODE",
          "hide_input_from_viewers": true,
          "hide_output_from_viewers": true
        },
        "id": "3Yr4tgA2bMQw",
        "outputId": "44b36875-484b-46fc-f367-569ea7c12fe8"
      }
    },
    {
      "cell_type": "markdown",
      "source": [
        "<a name=\"3.3\"></a>\n",
        "#### 3.3. L.R. with best selected features"
      ],
      "metadata": {
        "datalore": {
          "node_id": "EU8ARAkZfL2vtjWOMfQc6Q",
          "type": "MD",
          "hide_input_from_viewers": true,
          "hide_output_from_viewers": true
        },
        "id": "z85_m6ilbMQx"
      }
    },
    {
      "cell_type": "markdown",
      "source": [
        "Select features according to the k highest scores with [SelectKBest](https://scikit-learn.org/stable/modules/generated/sklearn.feature_selection.SelectKBest.html). Then, we plot the ten highest scored features and the selected features with a heatmap. "
      ],
      "metadata": {
        "datalore": {
          "node_id": "pjQgE6DvWZacRjpCGBDkri",
          "type": "MD",
          "hide_input_from_viewers": true,
          "hide_output_from_viewers": true
        },
        "id": "hT4m4z1KbMQy"
      }
    },
    {
      "cell_type": "code",
      "source": [
        "def select_k_features(func,k=5,x=aapl_data.copy(), y_=y.copy()):\n",
        "    #apply SelectKBest class to extract top 5 best features\n",
        "    bestfeatures = SelectKBest(score_func=func, k=5)\n",
        "    fit = bestfeatures.fit(x,y_)\n",
        "    dfscores = pd.DataFrame(fit.scores_)\n",
        "    dfcolumns = pd.DataFrame(x.columns)\n",
        "    #concat two dataframes for better visualization \n",
        "    feature_scores = pd.concat([dfcolumns, dfscores], axis=1)\n",
        "    feature_scores.columns = ['Specs', 'Score']  #naming the dataframe columns\n",
        "    feature_scores.nlargest(10, 'Score').plot.bar(x=\"Specs\", y=\"Score\", figsize=(6, 5), color=\"purple\")\n",
        "    plt.title(\"f regression\")\n",
        "    plt.show()\n",
        "    best_5=list(feature_scores.nlargest(5, 'Score')['Specs'])\n",
        "    for col in x:\n",
        "        if col not in best_5:\n",
        "            x.drop([col], axis=1, inplace=True)\n",
        "    return x\n",
        "\n",
        "X_best=select_k_features(func=f_regression)\n",
        "\n",
        "\n",
        "plt.figure(figsize=(20,8))\n",
        "sns.heatmap(X_best.corr(),cmap=plt.cm.Blues,annot=True)\n",
        "plt.title('Heatmap displaying the relationship between the features of the data',\n",
        "         fontsize=13)\n",
        "plt.show()"
      ],
      "execution_count": null,
      "outputs": [
        {
          "data": {
            "image/png": "[encoded data removed]"
          },
          "metadata": {
            "image/png": {}
          },
          "output_type": "display_data"
        },
        {
          "data": {
            "image/png": "[encoded data removed]"
          },
          "metadata": {
            "image/png": {}
          },
          "output_type": "display_data"
        }
      ],
      "metadata": {
        "datalore": {
          "node_id": "iTCZTnMaTaSH84ELrB7bCN",
          "type": "CODE",
          "hide_input_from_viewers": true,
          "hide_output_from_viewers": true
        },
        "id": "pyACBfmSbMQy",
        "outputId": "a806d806-6ab3-4586-9217-5cd3e2d33675"
      }
    },
    {
      "cell_type": "markdown",
      "source": [
        "We split the data again, after selecting the best features. Because our model is time series, shuffle parameter must be false because every value depended on the previous one."
      ],
      "metadata": {
        "datalore": {
          "node_id": "lydQcyYbbCl6lMxbXRwywy",
          "type": "MD",
          "hide_input_from_viewers": true,
          "hide_output_from_viewers": true
        },
        "id": "16HU0bnjbMQ0"
      }
    },
    {
      "cell_type": "code",
      "source": [
        "X_train_best, X_test_best, y_train_best, y_test_best = train_test_split(X_best.values, y.values, test_size=0.25, shuffle=False)\n",
        "\n",
        "print(f\"the shape of the training set (input) is: {X_train_best.shape}\")\n",
        "print(f\"the shape of the training set (target) is: {y_train_best.shape}\\n\")\n",
        "\n",
        "print(f\"the shape of the test set (input) is: {X_test_best.shape}\")\n",
        "print(f\"the shape of the test set (target) is: {y_test_best.shape}\")"
      ],
      "execution_count": null,
      "outputs": [
        {
          "name": "stdout",
          "text": [
            "the shape of the training set (input) is: (1887, 5)\n",
            "the shape of the training set (target) is: (1887,)\n",
            "\n",
            "the shape of the test set (input) is: (629, 5)\n",
            "the shape of the test set (target) is: (629,)\n"
          ],
          "output_type": "stream"
        }
      ],
      "metadata": {
        "datalore": {
          "node_id": "Jgln8at9m56MkEfiGBo3Ns",
          "type": "CODE",
          "hide_input_from_viewers": true,
          "hide_output_from_viewers": true
        },
        "id": "SvaPaNfmbMQ0",
        "outputId": "35e6d397-26ab-405c-bf23-549ee6596742"
      }
    },
    {
      "cell_type": "markdown",
      "source": [
        "Normalization of the dataset with min-max scalar"
      ],
      "metadata": {
        "datalore": {
          "node_id": "eyrsfPdEmb17qfAdOTaF7q",
          "type": "MD",
          "hide_input_from_viewers": true,
          "hide_output_from_viewers": true
        },
        "id": "QIlCk7TSbMQ1"
      }
    },
    {
      "cell_type": "code",
      "source": [
        "scaler_best = MinMaxScaler()\n",
        "X_train_scaled_best = scaler_best.fit_transform(X_train_best)\n",
        "X_test_scaled_best = scaler_best.transform(X_test_best) "
      ],
      "execution_count": null,
      "outputs": [],
      "metadata": {
        "datalore": {
          "node_id": "OABgkMM3zC59uag5jmtkwk",
          "type": "CODE",
          "hide_input_from_viewers": true,
          "hide_output_from_viewers": true
        },
        "id": "W1LqHqzXbMQ2"
      }
    },
    {
      "cell_type": "code",
      "source": [
        "#Training the model.\n",
        "model_best = LinearRegression()\n",
        "model_best.fit(X_train_scaled_best, y_train_best)"
      ],
      "execution_count": null,
      "outputs": [
        {
          "data": {
            "text/html": [
              "<style>#sk-container-id-6 {color: black;background-color: white;}#sk-container-id-6 pre{padding: 0;}#sk-container-id-6 div.sk-toggleable {background-color: white;}#sk-container-id-6 label.sk-toggleable__label {cursor: pointer;display: block;width: 100%;margin-bottom: 0;padding: 0.3em;box-sizing: border-box;text-align: center;}#sk-container-id-6 label.sk-toggleable__label-arrow:before {content: \"▸\";float: left;margin-right: 0.25em;color: #696969;}#sk-container-id-6 label.sk-toggleable__label-arrow:hover:before {color: black;}#sk-container-id-6 div.sk-estimator:hover label.sk-toggleable__label-arrow:before {color: black;}#sk-container-id-6 div.sk-toggleable__content {max-height: 0;max-width: 0;overflow: hidden;text-align: left;background-color: #f0f8ff;}#sk-container-id-6 div.sk-toggleable__content pre {margin: 0.2em;color: black;border-radius: 0.25em;background-color: #f0f8ff;}#sk-container-id-6 input.sk-toggleable__control:checked~div.sk-toggleable__content {max-height: 200px;max-width: 100%;overflow: auto;}#sk-container-id-6 input.sk-toggleable__control:checked~label.sk-toggleable__label-arrow:before {content: \"▾\";}#sk-container-id-6 div.sk-estimator input.sk-toggleable__control:checked~label.sk-toggleable__label {background-color: #d4ebff;}#sk-container-id-6 div.sk-label input.sk-toggleable__control:checked~label.sk-toggleable__label {background-color: #d4ebff;}#sk-container-id-6 input.sk-hidden--visually {border: 0;clip: rect(1px 1px 1px 1px);clip: rect(1px, 1px, 1px, 1px);height: 1px;margin: -1px;overflow: hidden;padding: 0;position: absolute;width: 1px;}#sk-container-id-6 div.sk-estimator {font-family: monospace;background-color: #f0f8ff;border: 1px dotted black;border-radius: 0.25em;box-sizing: border-box;margin-bottom: 0.5em;}#sk-container-id-6 div.sk-estimator:hover {background-color: #d4ebff;}#sk-container-id-6 div.sk-parallel-item::after {content: \"\";width: 100%;border-bottom: 1px solid gray;flex-grow: 1;}#sk-container-id-6 div.sk-label:hover label.sk-toggleable__label {background-color: #d4ebff;}#sk-container-id-6 div.sk-serial::before {content: \"\";position: absolute;border-left: 1px solid gray;box-sizing: border-box;top: 0;bottom: 0;left: 50%;z-index: 0;}#sk-container-id-6 div.sk-serial {display: flex;flex-direction: column;align-items: center;background-color: white;padding-right: 0.2em;padding-left: 0.2em;position: relative;}#sk-container-id-6 div.sk-item {position: relative;z-index: 1;}#sk-container-id-6 div.sk-parallel {display: flex;align-items: stretch;justify-content: center;background-color: white;position: relative;}#sk-container-id-6 div.sk-item::before, #sk-container-id-6 div.sk-parallel-item::before {content: \"\";position: absolute;border-left: 1px solid gray;box-sizing: border-box;top: 0;bottom: 0;left: 50%;z-index: -1;}#sk-container-id-6 div.sk-parallel-item {display: flex;flex-direction: column;z-index: 1;position: relative;background-color: white;}#sk-container-id-6 div.sk-parallel-item:first-child::after {align-self: flex-end;width: 50%;}#sk-container-id-6 div.sk-parallel-item:last-child::after {align-self: flex-start;width: 50%;}#sk-container-id-6 div.sk-parallel-item:only-child::after {width: 0;}#sk-container-id-6 div.sk-dashed-wrapped {border: 1px dashed gray;margin: 0 0.4em 0.5em 0.4em;box-sizing: border-box;padding-bottom: 0.4em;background-color: white;}#sk-container-id-6 div.sk-label label {font-family: monospace;font-weight: bold;display: inline-block;line-height: 1.2em;}#sk-container-id-6 div.sk-label-container {text-align: center;}#sk-container-id-6 div.sk-container {/* jupyter's `normalize.less` sets `[hidden] { display: none; }` but bootstrap.min.css set `[hidden] { display: none !important; }` so we also need the `!important` here to be able to override the default hidden behavior on the sphinx rendered scikit-learn.org. See: https://github.com/scikit-learn/scikit-learn/issues/21755 */display: inline-block !important;position: relative;}#sk-container-id-6 div.sk-text-repr-fallback {display: none;}</style><div id=\"sk-container-id-6\" class=\"sk-top-container\"><div class=\"sk-text-repr-fallback\"><pre>LinearRegression()</pre><b>In a Jupyter environment, please rerun this cell to show the HTML representation or trust the notebook. <br />On GitHub, the HTML representation is unable to render, please try loading this page with nbviewer.org.</b></div><div class=\"sk-container\" hidden><div class=\"sk-item\"><div class=\"sk-estimator sk-toggleable\"><input class=\"sk-toggleable__control sk-hidden--visually\" id=\"sk-estimator-id-6\" type=\"checkbox\" checked><label for=\"sk-estimator-id-6\" class=\"sk-toggleable__label sk-toggleable__label-arrow\">LinearRegression</label><div class=\"sk-toggleable__content\"><pre>LinearRegression()</pre></div></div></div></div></div>"
            ]
          },
          "metadata": {},
          "output_type": "display_data"
        }
      ],
      "metadata": {
        "datalore": {
          "node_id": "PkDg4bJ6PypM0VGlttyM6h",
          "type": "CODE",
          "hide_input_from_viewers": true,
          "hide_output_from_viewers": true
        },
        "id": "m9UQ8OjybMQ3",
        "outputId": "aa4d2fed-ab0b-47a2-cc2d-ecb2228a3ec0"
      }
    },
    {
      "cell_type": "code",
      "source": [
        "#Predicting with the test data.\n",
        "yhat_best = model_best.predict(X_test_scaled_best)\n",
        "yhat_best"
      ],
      "execution_count": null,
      "outputs": [
        {
          "data": {
            "text/html": [
              "<pre>array([ 51.07779723,  49.98202288,  50.27518479,  50.80323401,\n",
              "        50.51252836,  50.84020532,  51.32445241,  51.16288957,\n",
              "        50.89852124,  51.39826656,  50.72634801,  51.75652482,\n",
              "        52.1839843 ,  52.16928232,  51.80335299,  52.0070676 ,\n",
              "        52.45269105,  52.20177062,  53.45922925,  52.29471758,\n",
              "        50.96165997,  48.3671213 ,  49.16570151,  49.63880157,\n",
              "        50.78064927,  50.25195421,  50.15919142,  52.22935233,\n",
              "        50.82809683,  50.45255563,  51.61258445,  52.69409831,\n",
              "        52.72030788,  53.18054048,  53.13399062,  50.79543706,\n",
              "        51.60707074,  51.09726103,  51.33324695,  52.19724526,\n",
              "        52.1761231 ,  51.40881876,  52.27025608,  53.33414277,\n",
              "        53.33959066,  53.51409898,  54.06634519,  55.82968206,\n",
              "        55.89115395,  54.68344289,  54.95047191,  55.14613632,\n",
              "        55.6142988 ,  55.30829399,  54.52668977,  54.67984866,\n",
              "        54.51332047,  55.18386858,  54.97769329,  54.69589524,\n",
              "        55.97808957,  56.28439474,  54.78969009,  55.03790019,\n",
              "        56.70251721,  56.86625756,  56.21773884,  56.7507288 ,\n",
              "        57.49743522,  59.06000376,  59.05816571,  58.9044657 ,\n",
              "        58.61773845,  58.80143845,  59.11377107,  60.1038585 ,\n",
              "        60.05647219,  60.76972176,  60.87568413,  61.60279294,\n",
              "        62.24220205,  60.92314589,  60.78118627,  61.78947496,\n",
              "        63.86100933,  64.34543747,  64.3235892 ,  64.28125067,\n",
              "        64.8802608 ,  64.963052  ,  65.50298364,  65.50370652,\n",
              "        66.0827691 ,  65.71065677,  66.39135037,  66.71756843,\n",
              "        66.57945356,  65.74342393,  65.50426188,  65.43862551,\n",
              "        66.52720693,  66.05671545,  66.92800056,  66.81488062,\n",
              "        66.10242852,  64.74631519,  65.45968591,  66.3384109 ,\n",
              "        67.64405601,  66.74180406,  67.08836905,  67.67660262,\n",
              "        67.8336613 ,  68.72413328,  69.97847211,  70.13806253,\n",
              "        70.01203869,  70.03264615,  69.89569002,  70.95432517,\n",
              "        71.04281622,  72.40680335,  72.53701361,  72.73665876,\n",
              "        73.35010254,  75.01383918,  74.46569366,  74.81676514,\n",
              "        74.63595109,  75.74794803,  77.38550434,  77.61070452,\n",
              "        79.16606707,  78.27017547,  77.91721728,  78.74851327,\n",
              "        79.60217651,  79.20560983,  79.48414802,  79.71352267,\n",
              "        79.69858512,  77.12396953,  79.33449778,  81.11969945,\n",
              "        80.85648116,  77.55110729,  77.14610259,  79.61404589,\n",
              "        80.35497217,  81.18026661,  80.00825758,  80.24146708,\n",
              "        79.9431241 ,  81.7062707 ,  81.22677098,  81.19949853,\n",
              "        79.66022943,  80.86986904,  80.09286812,  78.28353382,\n",
              "        74.34684875,  72.11719419,  73.17708638,  68.55861524,\n",
              "        68.09483798,  74.32100026,  72.44632908,  75.50941787,\n",
              "        73.38091734,  72.15878481,  66.8309799 ,  70.88446802,\n",
              "        68.85026117,  62.58346091,  68.83012623,  61.00084849,\n",
              "        62.87775839,  61.49653802,  61.31937952,  57.66257077,\n",
              "        55.61507259,  61.4898583 ,  61.72355578,  64.44862675,\n",
              "        62.13664378,  63.64523399,  63.7946544 ,  60.30354168,\n",
              "        60.99886861,  60.3628894 ,  65.40909036,  65.1024419 ,\n",
              "        66.49822227,  66.9855605 ,  68.19139672,  71.67942304,\n",
              "        71.12208642,  71.58812836,  70.59556504,  69.37841489,\n",
              "        67.09849911,  68.97270919,  68.97565201,  70.64338006,\n",
              "        70.76601624,  69.7746298 ,  71.95055614,  73.383676  ,\n",
              "        72.59058542,  73.14202178,  74.48159706,  75.22556578,\n",
              "        75.96326143,  77.44480602,  78.71229032,  78.03644715,\n",
              "        76.95358105,  77.17825963,  76.77688357,  78.66193062,\n",
              "        78.44911463,  79.78971609,  79.3022416 ,  79.67368401,\n",
              "        79.31803695,  79.39065805,  79.68454889,  79.51687708,\n",
              "        80.39064457,  80.72787781,  81.2332636 ,  80.60156395,\n",
              "        82.75037396,  83.21827274,  85.8760749 ,  88.18533975,\n",
              "        84.24677584,  84.73114952,  85.63683558,  87.80707528,\n",
              "        87.96529296,  87.91722402,  87.40717964,  89.61524558,\n",
              "        91.77833187,  90.18781885,  91.02884454,  88.57301797,\n",
              "        90.21384926,  91.15417116,  91.12105875,  91.17112556,\n",
              "        93.48610183,  93.3430407 ,  95.28215808,  95.65409613,\n",
              "        95.80721639,  95.97514026,  96.77555381,  97.66785123,\n",
              "        96.54590076,  96.30526806,  98.18280201,  97.10547699,\n",
              "        97.30912557,  92.92836069,  92.17875355,  94.67802735,\n",
              "        93.31416373,  94.95717702,  95.99600612, 105.83498142,\n",
              "       109.39486265, 109.80207995, 110.08193318, 113.71820636,\n",
              "       111.22207455, 112.47143202, 109.5414055 , 112.82668388,\n",
              "       115.0648923 , 114.63863642, 114.61093723, 115.48916596,\n",
              "       115.89566411, 118.118046  , 124.13640379, 125.84234212,\n",
              "       124.65669683, 126.44287976, 125.02121104, 124.90042405,\n",
              "       128.98899959, 133.88279688, 131.1813957 , 121.3814388 ,\n",
              "       119.69068032, 113.41687327, 117.13748379, 113.65667961,\n",
              "       111.82233486, 115.05061892, 115.469853  , 112.38796212,\n",
              "       110.33424801, 106.92391657, 109.3795987 , 111.44677587,\n",
              "       107.36511233, 108.21999327, 111.90276544, 114.71326394,\n",
              "       114.17843702, 115.88271854, 116.74797968, 113.22684817,\n",
              "       116.26735657, 113.19738109, 115.01814735, 114.99566683,\n",
              "       116.79087748, 124.15501573, 121.19629148, 121.2547521 ,\n",
              "       120.53616994, 119.14372021, 116.17841765, 117.47420095,\n",
              "       117.04222172, 115.70442129, 114.97479648, 114.96731802,\n",
              "       116.44783335, 111.41108267, 115.28538957, 108.8612873 ,\n",
              "       108.70815708, 110.33744654, 114.71447334, 118.94012111,\n",
              "       118.44043394, 116.79856372, 115.94733452, 119.23576092,\n",
              "       119.27404746, 119.07486897, 120.17749188, 119.49152155,\n",
              "       118.21280612, 118.46335107, 117.39281301, 114.03366917,\n",
              "       114.89998512, 116.00456565, 116.64829088, 119.16616978,\n",
              "       122.60079727, 122.91415668, 122.93400568, 122.20136841,\n",
              "       123.76340646, 124.26629521, 122.00750196, 123.04091655,\n",
              "       122.12610835, 121.86950538, 127.61302296, 127.75784008,\n",
              "       128.74584307, 126.74026411, 127.73941669, 131.96269713,\n",
              "       131.05830098, 132.12054512, 136.5633187 , 135.13075155,\n",
              "       133.84304542, 132.68676866, 129.18179083, 130.81941139,\n",
              "       127.02493179, 130.70953402, 131.79972872, 129.01695378,\n",
              "       128.60269329, 130.75121741, 129.00450106, 127.3769079 ,\n",
              "       127.77353903, 131.83297396, 137.09050675, 138.84829228,\n",
              "       142.3132215 , 143.09329115, 142.05150048, 137.49832037,\n",
              "       131.92672415, 133.73440259, 134.98608044, 133.93458304,\n",
              "       137.0200394 , 136.65906751, 136.665724  , 136.18933806,\n",
              "       135.34032366, 134.99126132, 135.164328  , 133.28992398,\n",
              "       130.70043187, 129.33089948, 129.71718266, 126.21286589,\n",
              "       124.85224564, 124.82885175, 121.31109649, 121.58656503,\n",
              "       127.35008588, 125.35171313, 122.28752107, 120.19777824,\n",
              "       120.86468199, 116.53835175, 120.99723257, 120.04356955,\n",
              "       121.98787917, 120.78934625, 123.65396195, 125.71211652,\n",
              "       124.60149561, 120.642806  , 120.10079968, 123.19608421,\n",
              "       122.6347337 , 120.22122614, 120.54022367, 120.9277433 ,\n",
              "       121.41884616, 119.74394038, 122.22937581, 123.04563897,\n",
              "       125.68691981, 126.26350646, 127.66852231, 130.24263229,\n",
              "       132.76997938, 131.29740772, 134.26982299, 132.16594035,\n",
              "       134.50554664, 134.07501167, 134.79569193, 133.06800654,\n",
              "       133.24172578, 132.04211738, 134.250074  , 134.55914015,\n",
              "       134.4264354 , 133.62465821, 133.56946495, 131.62678161,\n",
              "       132.65331487, 127.82758868, 128.25732913, 129.42511698,\n",
              "       130.16440943, 126.96488315, 125.58407555, 122.8165298 ,\n",
              "       125.00878198, 127.34091362, 126.11806136, 124.98140936,\n",
              "       124.52151953, 127.1908818 , 125.54926946, 127.11927489,\n",
              "       126.93048134, 126.83842335, 125.4658425 , 124.64904881,\n",
              "       124.27059003, 124.95323713, 123.52419175, 125.73982103,\n",
              "       125.75746844, 126.92544936, 127.11870378, 126.30011303,\n",
              "       127.22403574, 130.18494378, 129.72528556, 129.97216659,\n",
              "       131.74149968, 130.55150238, 131.98549506, 133.78155774,\n",
              "       133.71495977, 133.4203169 , 133.12830021, 134.73116958,\n",
              "       136.16905545, 136.92483352, 137.09480197, 139.81222972,\n",
              "       142.08189407, 144.45287282, 143.10270088, 145.01638775,\n",
              "       144.54975549, 145.72078506, 149.09519504, 148.42616651,\n",
              "       146.61086293, 142.36784641, 145.96494326, 145.32584929,\n",
              "       146.89331042, 148.40243324, 148.97309332, 146.7115312 ,\n",
              "       144.8323127 , 145.63202686, 145.72017822, 145.56882671,\n",
              "       147.21693899, 146.91855714, 147.01829722, 146.14730991,\n",
              "       146.03991562, 145.75123468, 145.87615144, 148.64407851,\n",
              "       149.02578745, 150.61020486, 150.2288423 , 146.62927307,\n",
              "       146.61617855, 148.02691638, 149.58228063, 149.72091633,\n",
              "       148.40506613, 147.66130611, 148.39591641, 152.81038009,\n",
              "       151.81374523, 152.82684349, 153.59703297, 154.20249338,\n",
              "       156.56633165, 155.0402675 , 154.20075509, 149.28790241,\n",
              "       149.51502227, 148.07435734, 148.61900089, 148.52669439,\n",
              "       146.10885408, 142.77219212, 143.36957315, 145.66246388,\n",
              "       146.66540996, 146.86983884, 145.16414686, 142.11057975,\n",
              "       142.90993422, 141.63600475, 142.12167895, 139.14801563,\n",
              "       141.0832259 , 141.61739125, 143.34789744, 142.92754797,\n",
              "       142.97400843, 141.51368454, 140.62648793, 143.53780782,\n",
              "       144.7205807 , 146.31904187, 148.64744668, 149.2269824 ,\n",
              "       149.31484329, 148.80864418, 148.55454718, 149.47207205,\n",
              "       148.84286653, 152.4381675 , 149.45163219, 148.83444541,\n",
              "       150.11243012, 151.36722789, 151.04978347, 151.14044973,\n",
              "       150.44685495, 150.799622  , 147.98902609, 147.91067136,\n",
              "       149.73868067, 150.12662842, 150.87619571, 153.53493846,\n",
              "       157.62258835, 160.29054619, 161.72437807, 161.14818825,\n",
              "       161.71394336, 156.97715834, 160.18256037, 164.92707471,\n",
              "       165.34280872, 163.26072978, 161.73442348, 165.62296808,\n",
              "       171.01323036, 174.83266658, 174.81298919, 179.15697793,\n",
              "       176.22931737, 174.38263704, 178.55028093, 172.65523638,\n",
              "       171.2421278 , 169.50049257, 172.45224256, 175.30602742,\n",
              "       176.22656325, 180.13480012, 179.41809927, 179.37046951,\n",
              "       178.39420163])</pre>"
            ]
          },
          "metadata": {},
          "output_type": "display_data"
        }
      ],
      "metadata": {
        "datalore": {
          "node_id": "I4RP2L4itRonQ0iMkmNc9x",
          "type": "CODE",
          "hide_input_from_viewers": true,
          "hide_output_from_viewers": true
        },
        "id": "rU3hOa-TbMQ4",
        "outputId": "a22ec929-defb-460f-ddce-e9ba7e00e58c"
      }
    },
    {
      "cell_type": "code",
      "source": [
        "#calculating the coefficient of the determination\n",
        "score_best = model_best.score(X_test_scaled_best,y_test_best)\n",
        "score_best"
      ],
      "execution_count": null,
      "outputs": [
        {
          "data": {
            "text/plain": [
              "0.9962618711978265"
            ]
          },
          "metadata": {},
          "output_type": "display_data"
        }
      ],
      "metadata": {
        "datalore": {
          "node_id": "HXKAcj7uPEudBbbpXGzfpO",
          "type": "CODE",
          "hide_input_from_viewers": true,
          "hide_output_from_viewers": true
        },
        "id": "MkmQ-41SbMQ4",
        "outputId": "ad91524f-d186-4fa2-cc13-f031b8fab94d"
      }
    },
    {
      "cell_type": "code",
      "source": [
        "#plotting the best fit line for every feature\n",
        "model_plot = LinearRegression()\n",
        "for i,e in enumerate(X_best.columns):\n",
        "    model_plot.fit(X_best[e].values[:,np.newaxis], y)\n",
        "    plt.title(\"Best fit line\")\n",
        "    plt.xlabel(str(e))\n",
        "    plt.ylabel('Price')\n",
        "    plt.scatter(X_best[e].values[:,np.newaxis], y)\n",
        "    plt.plot(X_best[e].values[:,np.newaxis], model_plot.predict(X_best[e].values[:,np.newaxis]),color='r')\n",
        "    plt.show()"
      ],
      "execution_count": null,
      "outputs": [
        {
          "data": {
            "image/png": "[encoded data removed]"
          },
          "metadata": {
            "image/png": {}
          },
          "output_type": "display_data"
        },
        {
          "data": {
            "image/png": "[encoded data removed]"
          },
          "metadata": {
            "image/png": {}
          },
          "output_type": "display_data"
        },
        {
          "data": {
            "image/png": "[encoded data removed]"
          },
          "metadata": {
            "image/png": {}
          },
          "output_type": "display_data"
        },
        {
          "data": {
            "image/png": "[encoded data removed]"
          },
          "metadata": {
            "image/png": {}
          },
          "output_type": "display_data"
        },
        {
          "data": {
            "image/png": "[encoded data removed]"
          },
          "metadata": {
            "image/png": {}
          },
          "output_type": "display_data"
        }
      ],
      "metadata": {
        "datalore": {
          "node_id": "8xCKJhC4VBT0ZukeRjfm5V",
          "type": "CODE",
          "hide_input_from_viewers": true,
          "hide_output_from_viewers": true
        },
        "id": "BXYEnH6EbMQ5",
        "outputId": "c3d2bb33-6944-423f-b707-ac0756f62a8d"
      }
    },
    {
      "cell_type": "markdown",
      "source": [
        "Testing the model with new manually added data to get the predicted close price. To get right output, we had to scale the new data. "
      ],
      "metadata": {
        "datalore": {
          "node_id": "tvDSJcmvZV5GRm21mNfirJ",
          "type": "MD",
          "hide_input_from_viewers": true,
          "hide_output_from_viewers": true
        },
        "id": "-mSUtCCdbMQ6"
      }
    },
    {
      "cell_type": "code",
      "source": [
        "#new data \n",
        "new_data =np.array([178.089996, 179.470001, 180.570007, 177.444286, 178.199997]).reshape((1,-1))\n",
        "new_data_scaled = scaler_best.transform(new_data)\n",
        "new_data_scaled"
      ],
      "execution_count": null,
      "outputs": [
        {
          "data": {
            "text/html": [
              "<pre>array([[3.76129664, 3.77778236, 3.77127878, 3.83530125, 3.72708171]])</pre>"
            ]
          },
          "metadata": {},
          "output_type": "display_data"
        }
      ],
      "metadata": {
        "datalore": {
          "node_id": "rcGOn0kGJfe8LPvuIlQvoh",
          "type": "CODE",
          "hide_input_from_viewers": true,
          "hide_output_from_viewers": true
        },
        "id": "OqVM_HBfbMQ7",
        "outputId": "f5129d1d-f775-4b88-a82c-8c9bacdabe47"
      }
    },
    {
      "cell_type": "code",
      "source": [
        "#predicting the new close price\n",
        "yhat_best_0 = model_best.predict(new_data_scaled)\n",
        "\n",
        "yhat_best_0"
      ],
      "execution_count": null,
      "outputs": [
        {
          "data": {
            "text/html": [
              "<pre>array([178.39420159])</pre>"
            ]
          },
          "metadata": {},
          "output_type": "display_data"
        }
      ],
      "metadata": {
        "datalore": {
          "node_id": "02TXnQPUmxEqcHyBQybhDH",
          "type": "CODE",
          "hide_input_from_viewers": true,
          "hide_output_from_viewers": true
        },
        "id": "X2q9dfKrbMQ8",
        "outputId": "e66628d8-d747-44a5-bc4f-a5cf42002b0d"
      }
    },
    {
      "cell_type": "markdown",
      "source": [
        "<a name=\"4\"></a>\n",
        "### 4. Models comparison\n",
        "- [Ridge](https://scikit-learn.org/stable/modules/generated/sklearn.linear_model.Ridge.html) regression model where the loss function is the linear least squares function and regularization is given by the l2-norm.\n",
        "- [GradientBoostingRegressor](https://scikit-learn.org/stable/modules/generated/sklearn.ensemble.GradientBoostingRegressor.html) additive model in a forward stage-wise fashion; it allows for the optimization of arbitrary differentiable loss functions. In each stage a regression tree is fit on the negative gradient of the given loss function.\n",
        "- [ExtraTreesRegressor](https://scikit-learn.org/stable/modules/generated/sklearn.ensemble.ExtraTreesRegressor.html) estimator that fits a number of randomized decision trees (a.k.a. extra-trees) on various sub-samples of the dataset and uses averaging to improve the predictive accuracy and control over-fitting.\n",
        "- [RandomForestRegressor](https://scikit-learn.org/stable/modules/generated/sklearn.ensemble.RandomForestRegressor.html) estimator that fits a number of classifying decision trees on various sub-samples of the dataset and uses averaging to improve the predictive accuracy and control over-fitting.\n",
        "- [KNeighborsRegressor](https://scikit-learn.org/stable/modules/generated/sklearn.neighbors.KNeighborsRegressor.html) Regression based on k-nearest neighbors.\n",
        "- [DecisionTreeRegressor](https://scikit-learn.org/stable/modules/generated/sklearn.tree.DecisionTreeRegressor.html) A decision tree regressor.\n",
        "- [XGBRegressor](https://xgboost.readthedocs.io/en/stable/python/python_api.html) powerful regression algorithm that leverages gradient boosting techniques and efficient implementation."
      ],
      "metadata": {
        "datalore": {
          "node_id": "JNZ0Y2vtLT2gN0qVS7AieB",
          "type": "MD",
          "hide_input_from_viewers": true,
          "hide_output_from_viewers": true
        },
        "id": "nnQvuyIQbMQ9"
      }
    },
    {
      "cell_type": "code",
      "source": [
        "sc = ('Scaler', MinMaxScaler())\n",
        "models =[]\n",
        "models.append(('LinearRegression', Pipeline([sc, ('LinearRegression', LinearRegression())])))\n",
        "models.append(('Ridge', Pipeline([sc, ('Ridge', Ridge())])))\n",
        "models.append(('GradientBoosting', Pipeline([sc, ('GradientBoosting', GradientBoostingRegressor())])))\n",
        "models.append(('ExtraTree', Pipeline([sc, ('ExtraTrees', ExtraTreesRegressor())])))\n",
        "models.append(('RandomForest', Pipeline([sc, ('RandomForest', RandomForestRegressor())]))) \n",
        "models.append(('KNeighbors', Pipeline([sc, ('KNeighbors', KNeighborsRegressor())])))\n",
        "models.append(('DecisionTree', Pipeline([sc, ('DecisionTree', DecisionTreeRegressor())])))\n",
        "models.append(('XGB', Pipeline([sc, ('XGB', XGBRegressor())])))"
      ],
      "execution_count": null,
      "outputs": [],
      "metadata": {
        "datalore": {
          "node_id": "1hsGW5ERZLF7qrwlD0QBf5",
          "type": "CODE",
          "hide_input_from_viewers": true,
          "hide_output_from_viewers": true
        },
        "id": "Udl8gDx1bMQ-"
      }
    },
    {
      "cell_type": "markdown",
      "source": [
        "[kfold](https://scikit-learn.org/stable/modules/generated/sklearn.model_selection.KFold.html) is a cross-validation technique used to assess the performance and generalization of a model. It is commonly used to estimate the model's performance on unseen data by splitting the dataset into k folds or subsets. By rotating the folds, the model is trained and evaluated on different subsets of the data."
      ],
      "metadata": {
        "datalore": {
          "node_id": "fY1N3I4vJbOmzgyEyaDDK8",
          "type": "MD",
          "hide_input_from_viewers": true,
          "hide_output_from_viewers": true
        },
        "id": "bvWGuXBmbMQ-"
      }
    },
    {
      "cell_type": "code",
      "source": [
        "splits = 7\n",
        "score = 'r2'\n",
        "models_score =[]\n",
        "for i in models:\n",
        "    kfold = KFold(n_splits=splits)\n",
        "    results = cross_val_score(i[1], X_train_best, y_train, cv=kfold, scoring=score)\n",
        "    models_score.append({i[0] : '{} +/- {}'.format(results.mean(), results.std())})"
      ],
      "execution_count": null,
      "outputs": [],
      "metadata": {
        "datalore": {
          "node_id": "nHsqvcUaqGNQA4IZaA9pNi",
          "type": "CODE",
          "hide_input_from_viewers": true,
          "hide_output_from_viewers": true
        },
        "id": "43RnphDJbMQ_"
      }
    },
    {
      "cell_type": "markdown",
      "source": [
        "We print the validation score for each fold ; the mean score and the standard deviation."
      ],
      "metadata": {
        "datalore": {
          "node_id": "RX7UMobdy2MJIqhEbdWQZI",
          "type": "MD",
          "hide_input_from_viewers": true,
          "hide_output_from_viewers": true
        },
        "id": "rWLZd2eObMRA"
      }
    },
    {
      "cell_type": "code",
      "source": [
        "models_score"
      ],
      "execution_count": null,
      "outputs": [
        {
          "data": {
            "text/plain": [
              "[{'LinearRegression': '0.9766976084686879 +/- 0.010417991489582515'},\n",
              " {'Ridge': '0.9723157223052689 +/- 0.012559334997232814'},\n",
              " {'GradientBoosting': '0.9014212922497424 +/- 0.15277332242495933'},\n",
              " {'ExtraTree': '0.8984884408394443 +/- 0.1616842190124274'},\n",
              " {'RandomForest': '0.9008877221283429 +/- 0.14608870328909157'},\n",
              " {'KNeighbors': '0.9010099346961679 +/- 0.14746037379119054'},\n",
              " {'DecisionTree': '0.8691981706758762 +/- 0.15945493048131862'},\n",
              " {'XGB': '0.8961301750443492 +/- 0.154666884051361'}]"
            ]
          },
          "metadata": {},
          "output_type": "display_data"
        }
      ],
      "metadata": {
        "datalore": {
          "node_id": "SdQG2fy31kjOOBvOdKvPHC",
          "type": "CODE",
          "hide_input_from_viewers": true,
          "hide_output_from_viewers": true
        },
        "id": "W2rDuHI4bMRA",
        "outputId": "429e1eee-af0e-418d-9004-5da7ddf8ac2e"
      }
    },
    {
      "cell_type": "markdown",
      "source": [
        "<a name=\"5\"></a>\n",
        "### 5. Conclusion"
      ],
      "metadata": {
        "datalore": {
          "node_id": "Vp8bCylwHiuub6XQTGkgJw",
          "type": "MD",
          "hide_input_from_viewers": true,
          "hide_output_from_viewers": true
        },
        "id": "8Hf6WEwnbMRB"
      }
    },
    {
      "cell_type": "markdown",
      "source": [
        "These values provide an indication of the performance and variability of each model. Thus, Linear Regression is the most suitable model of our stock prediction case ;  it provides interpretable coefficients and efficient analyzing of large datasets with multiple features."
      ],
      "metadata": {
        "datalore": {
          "node_id": "kzeJFrtYh3rBB7trYHgD8J",
          "type": "MD",
          "hide_input_from_viewers": true,
          "hide_output_from_viewers": true
        },
        "id": "sgWU3I73bMRC"
      }
    }
  ],
  "metadata": {
    "kernelspec": {
      "display_name": "Python",
      "language": "python",
      "name": "python"
    },
    "datalore": {
      "computation_mode": "JUPYTER",
      "package_manager": "pip",
      "base_environment": "default",
      "packages": [],
      "report_row_ids": [],
      "version": 3
    },
    "colab": {
      "provenance": [],
      "include_colab_link": true
    }
  },
  "nbformat": 4,
  "nbformat_minor": 0
}